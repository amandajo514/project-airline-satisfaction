{
 "cells": [
  {
   "cell_type": "markdown",
   "id": "16985388-b07d-42a8-81b4-a6d533c6ac6d",
   "metadata": {
    "tags": []
   },
   "source": [
    "#### Importing the libraries:"
   ]
  },
  {
   "cell_type": "code",
   "execution_count": 1,
   "id": "65f73bf5-7ab9-4ac8-a7ef-f773c77f2fd5",
   "metadata": {
    "tags": []
   },
   "outputs": [],
   "source": [
    "import pandas as pd\n",
    "import numpy as np\n",
    "import matplotlib.pyplot as plt\n",
    "import seaborn as sns\n",
    "from sklearn.neighbors import KNeighborsClassifier\n",
    "from sklearn.model_selection import train_test_split\n",
    "from sklearn.preprocessing import StandardScaler\n",
    "from sklearn.metrics import ConfusionMatrixDisplay"
   ]
  },
  {
   "cell_type": "markdown",
   "id": "ee2ff1cc-8fcf-40f4-aba0-ca4684a50946",
   "metadata": {},
   "source": [
    "#### Part 1: Taking a look at the dataset"
   ]
  },
  {
   "cell_type": "code",
   "execution_count": 2,
   "id": "016b2cb9-a613-44b5-9823-a2b700a78cad",
   "metadata": {
    "tags": []
   },
   "outputs": [],
   "source": [
    "# The data set consists of 24 columns. "
   ]
  },
  {
   "cell_type": "code",
   "execution_count": 3,
   "id": "b539bbea-8c93-4af9-9ec2-8ecaf837a2e9",
   "metadata": {
    "tags": []
   },
   "outputs": [
    {
     "data": {
      "text/html": [
       "<div>\n",
       "<style scoped>\n",
       "    .dataframe tbody tr th:only-of-type {\n",
       "        vertical-align: middle;\n",
       "    }\n",
       "\n",
       "    .dataframe tbody tr th {\n",
       "        vertical-align: top;\n",
       "    }\n",
       "\n",
       "    .dataframe thead th {\n",
       "        text-align: right;\n",
       "    }\n",
       "</style>\n",
       "<table border=\"1\" class=\"dataframe\">\n",
       "  <thead>\n",
       "    <tr style=\"text-align: right;\">\n",
       "      <th></th>\n",
       "      <th>Unnamed: 0</th>\n",
       "      <th>id</th>\n",
       "      <th>Gender</th>\n",
       "      <th>Customer Type</th>\n",
       "      <th>Age</th>\n",
       "      <th>Type of Travel</th>\n",
       "      <th>Class</th>\n",
       "      <th>Flight Distance</th>\n",
       "      <th>Inflight wifi service</th>\n",
       "      <th>Departure/Arrival time convenient</th>\n",
       "      <th>...</th>\n",
       "      <th>Inflight entertainment</th>\n",
       "      <th>On-board service</th>\n",
       "      <th>Leg room service</th>\n",
       "      <th>Baggage handling</th>\n",
       "      <th>Checkin service</th>\n",
       "      <th>Inflight service</th>\n",
       "      <th>Cleanliness</th>\n",
       "      <th>Departure Delay in Minutes</th>\n",
       "      <th>Arrival Delay in Minutes</th>\n",
       "      <th>satisfaction</th>\n",
       "    </tr>\n",
       "  </thead>\n",
       "  <tbody>\n",
       "    <tr>\n",
       "      <th>0</th>\n",
       "      <td>0</td>\n",
       "      <td>70172</td>\n",
       "      <td>Male</td>\n",
       "      <td>Loyal Customer</td>\n",
       "      <td>13</td>\n",
       "      <td>Personal Travel</td>\n",
       "      <td>Eco Plus</td>\n",
       "      <td>460</td>\n",
       "      <td>3</td>\n",
       "      <td>4</td>\n",
       "      <td>...</td>\n",
       "      <td>5</td>\n",
       "      <td>4</td>\n",
       "      <td>3</td>\n",
       "      <td>4</td>\n",
       "      <td>4</td>\n",
       "      <td>5</td>\n",
       "      <td>5</td>\n",
       "      <td>25</td>\n",
       "      <td>18.0</td>\n",
       "      <td>neutral or dissatisfied</td>\n",
       "    </tr>\n",
       "    <tr>\n",
       "      <th>1</th>\n",
       "      <td>1</td>\n",
       "      <td>5047</td>\n",
       "      <td>Male</td>\n",
       "      <td>disloyal Customer</td>\n",
       "      <td>25</td>\n",
       "      <td>Business travel</td>\n",
       "      <td>Business</td>\n",
       "      <td>235</td>\n",
       "      <td>3</td>\n",
       "      <td>2</td>\n",
       "      <td>...</td>\n",
       "      <td>1</td>\n",
       "      <td>1</td>\n",
       "      <td>5</td>\n",
       "      <td>3</td>\n",
       "      <td>1</td>\n",
       "      <td>4</td>\n",
       "      <td>1</td>\n",
       "      <td>1</td>\n",
       "      <td>6.0</td>\n",
       "      <td>neutral or dissatisfied</td>\n",
       "    </tr>\n",
       "    <tr>\n",
       "      <th>2</th>\n",
       "      <td>2</td>\n",
       "      <td>110028</td>\n",
       "      <td>Female</td>\n",
       "      <td>Loyal Customer</td>\n",
       "      <td>26</td>\n",
       "      <td>Business travel</td>\n",
       "      <td>Business</td>\n",
       "      <td>1142</td>\n",
       "      <td>2</td>\n",
       "      <td>2</td>\n",
       "      <td>...</td>\n",
       "      <td>5</td>\n",
       "      <td>4</td>\n",
       "      <td>3</td>\n",
       "      <td>4</td>\n",
       "      <td>4</td>\n",
       "      <td>4</td>\n",
       "      <td>5</td>\n",
       "      <td>0</td>\n",
       "      <td>0.0</td>\n",
       "      <td>satisfied</td>\n",
       "    </tr>\n",
       "    <tr>\n",
       "      <th>3</th>\n",
       "      <td>3</td>\n",
       "      <td>24026</td>\n",
       "      <td>Female</td>\n",
       "      <td>Loyal Customer</td>\n",
       "      <td>25</td>\n",
       "      <td>Business travel</td>\n",
       "      <td>Business</td>\n",
       "      <td>562</td>\n",
       "      <td>2</td>\n",
       "      <td>5</td>\n",
       "      <td>...</td>\n",
       "      <td>2</td>\n",
       "      <td>2</td>\n",
       "      <td>5</td>\n",
       "      <td>3</td>\n",
       "      <td>1</td>\n",
       "      <td>4</td>\n",
       "      <td>2</td>\n",
       "      <td>11</td>\n",
       "      <td>9.0</td>\n",
       "      <td>neutral or dissatisfied</td>\n",
       "    </tr>\n",
       "    <tr>\n",
       "      <th>4</th>\n",
       "      <td>4</td>\n",
       "      <td>119299</td>\n",
       "      <td>Male</td>\n",
       "      <td>Loyal Customer</td>\n",
       "      <td>61</td>\n",
       "      <td>Business travel</td>\n",
       "      <td>Business</td>\n",
       "      <td>214</td>\n",
       "      <td>3</td>\n",
       "      <td>3</td>\n",
       "      <td>...</td>\n",
       "      <td>3</td>\n",
       "      <td>3</td>\n",
       "      <td>4</td>\n",
       "      <td>4</td>\n",
       "      <td>3</td>\n",
       "      <td>3</td>\n",
       "      <td>3</td>\n",
       "      <td>0</td>\n",
       "      <td>0.0</td>\n",
       "      <td>satisfied</td>\n",
       "    </tr>\n",
       "  </tbody>\n",
       "</table>\n",
       "<p>5 rows × 25 columns</p>\n",
       "</div>"
      ],
      "text/plain": [
       "   Unnamed: 0      id  Gender      Customer Type  Age   Type of Travel  \\\n",
       "0           0   70172    Male     Loyal Customer   13  Personal Travel   \n",
       "1           1    5047    Male  disloyal Customer   25  Business travel   \n",
       "2           2  110028  Female     Loyal Customer   26  Business travel   \n",
       "3           3   24026  Female     Loyal Customer   25  Business travel   \n",
       "4           4  119299    Male     Loyal Customer   61  Business travel   \n",
       "\n",
       "      Class  Flight Distance  Inflight wifi service  \\\n",
       "0  Eco Plus              460                      3   \n",
       "1  Business              235                      3   \n",
       "2  Business             1142                      2   \n",
       "3  Business              562                      2   \n",
       "4  Business              214                      3   \n",
       "\n",
       "   Departure/Arrival time convenient  ...  Inflight entertainment  \\\n",
       "0                                  4  ...                       5   \n",
       "1                                  2  ...                       1   \n",
       "2                                  2  ...                       5   \n",
       "3                                  5  ...                       2   \n",
       "4                                  3  ...                       3   \n",
       "\n",
       "   On-board service  Leg room service  Baggage handling  Checkin service  \\\n",
       "0                 4                 3                 4                4   \n",
       "1                 1                 5                 3                1   \n",
       "2                 4                 3                 4                4   \n",
       "3                 2                 5                 3                1   \n",
       "4                 3                 4                 4                3   \n",
       "\n",
       "   Inflight service  Cleanliness  Departure Delay in Minutes  \\\n",
       "0                 5            5                          25   \n",
       "1                 4            1                           1   \n",
       "2                 4            5                           0   \n",
       "3                 4            2                          11   \n",
       "4                 3            3                           0   \n",
       "\n",
       "   Arrival Delay in Minutes             satisfaction  \n",
       "0                      18.0  neutral or dissatisfied  \n",
       "1                       6.0  neutral or dissatisfied  \n",
       "2                       0.0                satisfied  \n",
       "3                       9.0  neutral or dissatisfied  \n",
       "4                       0.0                satisfied  \n",
       "\n",
       "[5 rows x 25 columns]"
      ]
     },
     "execution_count": 3,
     "metadata": {},
     "output_type": "execute_result"
    }
   ],
   "source": [
    "df_train = pd.read_csv(\"data/train.csv\")\n",
    "df_train.head()"
   ]
  },
  {
   "cell_type": "code",
   "execution_count": 4,
   "id": "dcd5e9cb-908b-4c12-92ed-483af29af884",
   "metadata": {},
   "outputs": [
    {
     "data": {
      "text/html": [
       "<div>\n",
       "<style scoped>\n",
       "    .dataframe tbody tr th:only-of-type {\n",
       "        vertical-align: middle;\n",
       "    }\n",
       "\n",
       "    .dataframe tbody tr th {\n",
       "        vertical-align: top;\n",
       "    }\n",
       "\n",
       "    .dataframe thead th {\n",
       "        text-align: right;\n",
       "    }\n",
       "</style>\n",
       "<table border=\"1\" class=\"dataframe\">\n",
       "  <thead>\n",
       "    <tr style=\"text-align: right;\">\n",
       "      <th></th>\n",
       "      <th>Unnamed: 0</th>\n",
       "      <th>id</th>\n",
       "      <th>Gender</th>\n",
       "      <th>Customer Type</th>\n",
       "      <th>Age</th>\n",
       "      <th>Type of Travel</th>\n",
       "      <th>Class</th>\n",
       "      <th>Flight Distance</th>\n",
       "      <th>Inflight wifi service</th>\n",
       "      <th>Departure/Arrival time convenient</th>\n",
       "      <th>...</th>\n",
       "      <th>Inflight entertainment</th>\n",
       "      <th>On-board service</th>\n",
       "      <th>Leg room service</th>\n",
       "      <th>Baggage handling</th>\n",
       "      <th>Checkin service</th>\n",
       "      <th>Inflight service</th>\n",
       "      <th>Cleanliness</th>\n",
       "      <th>Departure Delay in Minutes</th>\n",
       "      <th>Arrival Delay in Minutes</th>\n",
       "      <th>satisfaction</th>\n",
       "    </tr>\n",
       "  </thead>\n",
       "  <tbody>\n",
       "    <tr>\n",
       "      <th>0</th>\n",
       "      <td>0</td>\n",
       "      <td>19556</td>\n",
       "      <td>Female</td>\n",
       "      <td>Loyal Customer</td>\n",
       "      <td>52</td>\n",
       "      <td>Business travel</td>\n",
       "      <td>Eco</td>\n",
       "      <td>160</td>\n",
       "      <td>5</td>\n",
       "      <td>4</td>\n",
       "      <td>...</td>\n",
       "      <td>5</td>\n",
       "      <td>5</td>\n",
       "      <td>5</td>\n",
       "      <td>5</td>\n",
       "      <td>2</td>\n",
       "      <td>5</td>\n",
       "      <td>5</td>\n",
       "      <td>50</td>\n",
       "      <td>44.0</td>\n",
       "      <td>satisfied</td>\n",
       "    </tr>\n",
       "    <tr>\n",
       "      <th>1</th>\n",
       "      <td>1</td>\n",
       "      <td>90035</td>\n",
       "      <td>Female</td>\n",
       "      <td>Loyal Customer</td>\n",
       "      <td>36</td>\n",
       "      <td>Business travel</td>\n",
       "      <td>Business</td>\n",
       "      <td>2863</td>\n",
       "      <td>1</td>\n",
       "      <td>1</td>\n",
       "      <td>...</td>\n",
       "      <td>4</td>\n",
       "      <td>4</td>\n",
       "      <td>4</td>\n",
       "      <td>4</td>\n",
       "      <td>3</td>\n",
       "      <td>4</td>\n",
       "      <td>5</td>\n",
       "      <td>0</td>\n",
       "      <td>0.0</td>\n",
       "      <td>satisfied</td>\n",
       "    </tr>\n",
       "    <tr>\n",
       "      <th>2</th>\n",
       "      <td>2</td>\n",
       "      <td>12360</td>\n",
       "      <td>Male</td>\n",
       "      <td>disloyal Customer</td>\n",
       "      <td>20</td>\n",
       "      <td>Business travel</td>\n",
       "      <td>Eco</td>\n",
       "      <td>192</td>\n",
       "      <td>2</td>\n",
       "      <td>0</td>\n",
       "      <td>...</td>\n",
       "      <td>2</td>\n",
       "      <td>4</td>\n",
       "      <td>1</td>\n",
       "      <td>3</td>\n",
       "      <td>2</td>\n",
       "      <td>2</td>\n",
       "      <td>2</td>\n",
       "      <td>0</td>\n",
       "      <td>0.0</td>\n",
       "      <td>neutral or dissatisfied</td>\n",
       "    </tr>\n",
       "    <tr>\n",
       "      <th>3</th>\n",
       "      <td>3</td>\n",
       "      <td>77959</td>\n",
       "      <td>Male</td>\n",
       "      <td>Loyal Customer</td>\n",
       "      <td>44</td>\n",
       "      <td>Business travel</td>\n",
       "      <td>Business</td>\n",
       "      <td>3377</td>\n",
       "      <td>0</td>\n",
       "      <td>0</td>\n",
       "      <td>...</td>\n",
       "      <td>1</td>\n",
       "      <td>1</td>\n",
       "      <td>1</td>\n",
       "      <td>1</td>\n",
       "      <td>3</td>\n",
       "      <td>1</td>\n",
       "      <td>4</td>\n",
       "      <td>0</td>\n",
       "      <td>6.0</td>\n",
       "      <td>satisfied</td>\n",
       "    </tr>\n",
       "    <tr>\n",
       "      <th>4</th>\n",
       "      <td>4</td>\n",
       "      <td>36875</td>\n",
       "      <td>Female</td>\n",
       "      <td>Loyal Customer</td>\n",
       "      <td>49</td>\n",
       "      <td>Business travel</td>\n",
       "      <td>Eco</td>\n",
       "      <td>1182</td>\n",
       "      <td>2</td>\n",
       "      <td>3</td>\n",
       "      <td>...</td>\n",
       "      <td>2</td>\n",
       "      <td>2</td>\n",
       "      <td>2</td>\n",
       "      <td>2</td>\n",
       "      <td>4</td>\n",
       "      <td>2</td>\n",
       "      <td>4</td>\n",
       "      <td>0</td>\n",
       "      <td>20.0</td>\n",
       "      <td>satisfied</td>\n",
       "    </tr>\n",
       "  </tbody>\n",
       "</table>\n",
       "<p>5 rows × 25 columns</p>\n",
       "</div>"
      ],
      "text/plain": [
       "   Unnamed: 0     id  Gender      Customer Type  Age   Type of Travel  \\\n",
       "0           0  19556  Female     Loyal Customer   52  Business travel   \n",
       "1           1  90035  Female     Loyal Customer   36  Business travel   \n",
       "2           2  12360    Male  disloyal Customer   20  Business travel   \n",
       "3           3  77959    Male     Loyal Customer   44  Business travel   \n",
       "4           4  36875  Female     Loyal Customer   49  Business travel   \n",
       "\n",
       "      Class  Flight Distance  Inflight wifi service  \\\n",
       "0       Eco              160                      5   \n",
       "1  Business             2863                      1   \n",
       "2       Eco              192                      2   \n",
       "3  Business             3377                      0   \n",
       "4       Eco             1182                      2   \n",
       "\n",
       "   Departure/Arrival time convenient  ...  Inflight entertainment  \\\n",
       "0                                  4  ...                       5   \n",
       "1                                  1  ...                       4   \n",
       "2                                  0  ...                       2   \n",
       "3                                  0  ...                       1   \n",
       "4                                  3  ...                       2   \n",
       "\n",
       "   On-board service  Leg room service  Baggage handling  Checkin service  \\\n",
       "0                 5                 5                 5                2   \n",
       "1                 4                 4                 4                3   \n",
       "2                 4                 1                 3                2   \n",
       "3                 1                 1                 1                3   \n",
       "4                 2                 2                 2                4   \n",
       "\n",
       "   Inflight service  Cleanliness  Departure Delay in Minutes  \\\n",
       "0                 5            5                          50   \n",
       "1                 4            5                           0   \n",
       "2                 2            2                           0   \n",
       "3                 1            4                           0   \n",
       "4                 2            4                           0   \n",
       "\n",
       "   Arrival Delay in Minutes             satisfaction  \n",
       "0                      44.0                satisfied  \n",
       "1                       0.0                satisfied  \n",
       "2                       0.0  neutral or dissatisfied  \n",
       "3                       6.0                satisfied  \n",
       "4                      20.0                satisfied  \n",
       "\n",
       "[5 rows x 25 columns]"
      ]
     },
     "execution_count": 4,
     "metadata": {},
     "output_type": "execute_result"
    }
   ],
   "source": [
    "df_test = pd.read_csv(\"data/test.csv\")\n",
    "df_test.head()"
   ]
  },
  {
   "cell_type": "code",
   "execution_count": 5,
   "id": "ab6d077d-f253-4a44-b2a3-94e0ee130f6a",
   "metadata": {
    "tags": []
   },
   "outputs": [
    {
     "data": {
      "text/plain": [
       "(103904, 25)"
      ]
     },
     "execution_count": 5,
     "metadata": {},
     "output_type": "execute_result"
    }
   ],
   "source": [
    "df_train.shape"
   ]
  },
  {
   "cell_type": "code",
   "execution_count": 6,
   "id": "fc098b11-010c-4b6c-8787-408c18698c35",
   "metadata": {
    "tags": []
   },
   "outputs": [
    {
     "data": {
      "text/plain": [
       "satisfaction\n",
       "neutral or dissatisfied    58879\n",
       "satisfied                  45025\n",
       "Name: count, dtype: int64"
      ]
     },
     "execution_count": 6,
     "metadata": {},
     "output_type": "execute_result"
    }
   ],
   "source": [
    "# doing value counts of the target\n",
    "df_train['satisfaction'].value_counts()"
   ]
  },
  {
   "cell_type": "code",
   "execution_count": 7,
   "id": "a66622c2-240c-4df3-a13e-a141c2f5c659",
   "metadata": {
    "tags": []
   },
   "outputs": [
    {
     "data": {
      "text/plain": [
       "Unnamed: 0                             int64\n",
       "id                                     int64\n",
       "Gender                                object\n",
       "Customer Type                         object\n",
       "Age                                    int64\n",
       "Type of Travel                        object\n",
       "Class                                 object\n",
       "Flight Distance                        int64\n",
       "Inflight wifi service                  int64\n",
       "Departure/Arrival time convenient      int64\n",
       "Ease of Online booking                 int64\n",
       "Gate location                          int64\n",
       "Food and drink                         int64\n",
       "Online boarding                        int64\n",
       "Seat comfort                           int64\n",
       "Inflight entertainment                 int64\n",
       "On-board service                       int64\n",
       "Leg room service                       int64\n",
       "Baggage handling                       int64\n",
       "Checkin service                        int64\n",
       "Inflight service                       int64\n",
       "Cleanliness                            int64\n",
       "Departure Delay in Minutes             int64\n",
       "Arrival Delay in Minutes             float64\n",
       "satisfaction                          object\n",
       "dtype: object"
      ]
     },
     "execution_count": 7,
     "metadata": {},
     "output_type": "execute_result"
    }
   ],
   "source": [
    "df_train.dtypes"
   ]
  },
  {
   "cell_type": "markdown",
   "id": "596f87b7-a65f-42ef-9e3f-d96c343b7c5a",
   "metadata": {
    "tags": []
   },
   "source": [
    "#### Part 2: Cleaning the dataset"
   ]
  },
  {
   "cell_type": "code",
   "execution_count": 8,
   "id": "1836bd44-1220-47f5-9c3c-966536c0b2ee",
   "metadata": {
    "tags": []
   },
   "outputs": [
    {
     "data": {
      "text/plain": [
       "Index(['Unnamed: 0', 'id', 'Gender', 'Customer Type', 'Age', 'Type of Travel',\n",
       "       'Class', 'Flight Distance', 'Inflight wifi service',\n",
       "       'Departure/Arrival time convenient', 'Ease of Online booking',\n",
       "       'Gate location', 'Food and drink', 'Online boarding', 'Seat comfort',\n",
       "       'Inflight entertainment', 'On-board service', 'Leg room service',\n",
       "       'Baggage handling', 'Checkin service', 'Inflight service',\n",
       "       'Cleanliness', 'Departure Delay in Minutes', 'Arrival Delay in Minutes',\n",
       "       'satisfaction'],\n",
       "      dtype='object')"
      ]
     },
     "execution_count": 8,
     "metadata": {},
     "output_type": "execute_result"
    }
   ],
   "source": [
    "# check columns\n",
    "df_train.columns"
   ]
  },
  {
   "cell_type": "code",
   "execution_count": 9,
   "id": "ecd42261-bd25-4a90-b6d7-9c814ca4fe22",
   "metadata": {
    "tags": []
   },
   "outputs": [],
   "source": [
    "#lowercase and snakecase all columns\n",
    "df_train.columns = df_train.columns.str.lower().str.replace(' ','_')\n",
    "df_test.columns = df_test.columns.str.lower().str.replace(' ','_')"
   ]
  },
  {
   "cell_type": "code",
   "execution_count": 10,
   "id": "89df44ab-7829-4a51-9d6f-54ece20d91b1",
   "metadata": {
    "tags": []
   },
   "outputs": [],
   "source": [
    "#drop 'unnamed:0' column\n",
    "df_train.drop(columns = 'unnamed:_0', inplace = True)\n",
    "df_test.drop(columns = 'unnamed:_0', inplace = True)"
   ]
  },
  {
   "cell_type": "code",
   "execution_count": 11,
   "id": "d8f82276-3080-4fad-a106-20811bf25af4",
   "metadata": {
    "tags": []
   },
   "outputs": [
    {
     "data": {
      "text/plain": [
       "id                                     int64\n",
       "gender                                object\n",
       "customer_type                         object\n",
       "age                                    int64\n",
       "type_of_travel                        object\n",
       "class                                 object\n",
       "flight_distance                        int64\n",
       "inflight_wifi_service                  int64\n",
       "departure/arrival_time_convenient      int64\n",
       "ease_of_online_booking                 int64\n",
       "gate_location                          int64\n",
       "food_and_drink                         int64\n",
       "online_boarding                        int64\n",
       "seat_comfort                           int64\n",
       "inflight_entertainment                 int64\n",
       "on-board_service                       int64\n",
       "leg_room_service                       int64\n",
       "baggage_handling                       int64\n",
       "checkin_service                        int64\n",
       "inflight_service                       int64\n",
       "cleanliness                            int64\n",
       "departure_delay_in_minutes             int64\n",
       "arrival_delay_in_minutes             float64\n",
       "satisfaction                          object\n",
       "dtype: object"
      ]
     },
     "execution_count": 11,
     "metadata": {},
     "output_type": "execute_result"
    }
   ],
   "source": [
    "df_train.dtypes"
   ]
  },
  {
   "cell_type": "code",
   "execution_count": 12,
   "id": "dbf680ea-f4a7-451f-bc8c-84412edf44e6",
   "metadata": {
    "tags": []
   },
   "outputs": [
    {
     "data": {
      "text/plain": [
       "gender\n",
       "Female    52727\n",
       "Male      51177\n",
       "Name: count, dtype: int64"
      ]
     },
     "execution_count": 12,
     "metadata": {},
     "output_type": "execute_result"
    }
   ],
   "source": [
    "df_train['gender'].value_counts()"
   ]
  },
  {
   "cell_type": "code",
   "execution_count": 13,
   "id": "41de2dfe-aecb-41af-8e3c-49f574291ab8",
   "metadata": {
    "tags": []
   },
   "outputs": [],
   "source": [
    "# encode 'Male' as 1 and 'Female' as 2\n",
    "df_train['gender'] = df_train['gender'].map({'Male':1, 'Female':0})\n",
    "df_test['gender'] = df_test['gender'].map({'Male':1, 'Female':0})"
   ]
  },
  {
   "cell_type": "code",
   "execution_count": 14,
   "id": "6b1191bd-2ef8-4a17-b7ec-483ab6d29bbc",
   "metadata": {
    "tags": []
   },
   "outputs": [
    {
     "data": {
      "text/plain": [
       "customer_type\n",
       "Loyal Customer       84923\n",
       "disloyal Customer    18981\n",
       "Name: count, dtype: int64"
      ]
     },
     "execution_count": 14,
     "metadata": {},
     "output_type": "execute_result"
    }
   ],
   "source": [
    "df_train['customer_type'].value_counts()"
   ]
  },
  {
   "cell_type": "code",
   "execution_count": 15,
   "id": "4c13b394-2df4-4586-8a34-2529ab49b277",
   "metadata": {},
   "outputs": [],
   "source": [
    "# encode 'Loyal' as 1 and 'unloyal' as 2\n",
    "df_train['customer_type'] = df_train['customer_type'].map({'Loyal Customer':1, 'disloyal Customer':0})\n",
    "df_test['customer_type'] = df_test['customer_type'].map({'Loyal Customer':1, 'disloyal Customer':0})"
   ]
  },
  {
   "cell_type": "code",
   "execution_count": 16,
   "id": "c899344f-dcad-4ff6-bf6b-5d098c09d8b6",
   "metadata": {
    "tags": []
   },
   "outputs": [
    {
     "data": {
      "text/plain": [
       "type_of_travel\n",
       "Business travel    71655\n",
       "Personal Travel    32249\n",
       "Name: count, dtype: int64"
      ]
     },
     "execution_count": 16,
     "metadata": {},
     "output_type": "execute_result"
    }
   ],
   "source": [
    "df_train['type_of_travel'].value_counts()"
   ]
  },
  {
   "cell_type": "code",
   "execution_count": 17,
   "id": "bcf8dc3e-8599-48dd-b4a4-d7ab092f1041",
   "metadata": {
    "tags": []
   },
   "outputs": [],
   "source": [
    "# encode 'Business' as 1 and 'Personal' as 2\n",
    "df_train['type_of_travel'] = df_train['type_of_travel'].map({'Business travel': 1, 'Personal Travel': 0})\n",
    "df_test['type_of_travel'] = df_test['type_of_travel'].map({'Business travel': 1, 'Personal Travel': 0})"
   ]
  },
  {
   "cell_type": "code",
   "execution_count": 18,
   "id": "a12d519d-f83d-4b5a-a6b5-799d5e84acd8",
   "metadata": {
    "tags": []
   },
   "outputs": [
    {
     "data": {
      "text/plain": [
       "class\n",
       "Business    49665\n",
       "Eco         46745\n",
       "Eco Plus     7494\n",
       "Name: count, dtype: int64"
      ]
     },
     "execution_count": 18,
     "metadata": {},
     "output_type": "execute_result"
    }
   ],
   "source": [
    "df_train['class'].value_counts()"
   ]
  },
  {
   "cell_type": "code",
   "execution_count": 19,
   "id": "fff9ac49-2650-45d4-a7a7-5cbe50b95dfc",
   "metadata": {},
   "outputs": [],
   "source": [
    "#encode 'Business' as 0, 'Eco' as 1, 'Eco Plus' as 2 \n",
    "df_train['class'] = df_train['class'].map({'Business':0, 'Eco':1, 'Eco Plus':2})\n",
    "df_test['class'] = df_test['class'].map({'Business':0, 'Eco':1, 'Eco Plus':2})"
   ]
  },
  {
   "cell_type": "code",
   "execution_count": 20,
   "id": "c78c719b-b323-498e-b7ba-c7900fab524a",
   "metadata": {
    "tags": []
   },
   "outputs": [],
   "source": [
    "# check null values"
   ]
  },
  {
   "cell_type": "code",
   "execution_count": 21,
   "id": "5fefd5f1-57aa-4695-9fa6-980bf2d37c82",
   "metadata": {
    "tags": []
   },
   "outputs": [
    {
     "data": {
      "text/plain": [
       "id                                     0\n",
       "gender                                 0\n",
       "customer_type                          0\n",
       "age                                    0\n",
       "type_of_travel                         0\n",
       "class                                  0\n",
       "flight_distance                        0\n",
       "inflight_wifi_service                  0\n",
       "departure/arrival_time_convenient      0\n",
       "ease_of_online_booking                 0\n",
       "gate_location                          0\n",
       "food_and_drink                         0\n",
       "online_boarding                        0\n",
       "seat_comfort                           0\n",
       "inflight_entertainment                 0\n",
       "on-board_service                       0\n",
       "leg_room_service                       0\n",
       "baggage_handling                       0\n",
       "checkin_service                        0\n",
       "inflight_service                       0\n",
       "cleanliness                            0\n",
       "departure_delay_in_minutes             0\n",
       "arrival_delay_in_minutes             310\n",
       "satisfaction                           0\n",
       "dtype: int64"
      ]
     },
     "execution_count": 21,
     "metadata": {},
     "output_type": "execute_result"
    }
   ],
   "source": [
    "df_train.isnull().sum()"
   ]
  },
  {
   "cell_type": "code",
   "execution_count": 22,
   "id": "4221ef9a-86b3-43b3-9c6e-c22ae1c29144",
   "metadata": {
    "tags": []
   },
   "outputs": [],
   "source": [
    "df_train.dropna(subset =['arrival_delay_in_minutes'], inplace = True)\n",
    "df_test.dropna(subset =['arrival_delay_in_minutes'], inplace = True)"
   ]
  },
  {
   "cell_type": "code",
   "execution_count": 23,
   "id": "a078e42d-914e-46fe-9167-111969142a0c",
   "metadata": {
    "tags": []
   },
   "outputs": [
    {
     "data": {
      "text/plain": [
       "id                                   0\n",
       "gender                               0\n",
       "customer_type                        0\n",
       "age                                  0\n",
       "type_of_travel                       0\n",
       "class                                0\n",
       "flight_distance                      0\n",
       "inflight_wifi_service                0\n",
       "departure/arrival_time_convenient    0\n",
       "ease_of_online_booking               0\n",
       "gate_location                        0\n",
       "food_and_drink                       0\n",
       "online_boarding                      0\n",
       "seat_comfort                         0\n",
       "inflight_entertainment               0\n",
       "on-board_service                     0\n",
       "leg_room_service                     0\n",
       "baggage_handling                     0\n",
       "checkin_service                      0\n",
       "inflight_service                     0\n",
       "cleanliness                          0\n",
       "departure_delay_in_minutes           0\n",
       "arrival_delay_in_minutes             0\n",
       "satisfaction                         0\n",
       "dtype: int64"
      ]
     },
     "execution_count": 23,
     "metadata": {},
     "output_type": "execute_result"
    }
   ],
   "source": [
    "df_train.isnull().sum()"
   ]
  },
  {
   "cell_type": "code",
   "execution_count": 24,
   "id": "bda60e77-22a1-4230-9278-cd1c8b1e503d",
   "metadata": {
    "tags": []
   },
   "outputs": [],
   "source": [
    "df_train.to_csv('cleaned_train.csv')"
   ]
  },
  {
   "cell_type": "code",
   "execution_count": 25,
   "id": "3d8c6a59-b05d-4443-928d-9785c7d748ee",
   "metadata": {},
   "outputs": [],
   "source": [
    "df_test.to_csv('cleaned_test.csv')"
   ]
  },
  {
   "cell_type": "markdown",
   "id": "ed2e70fd-2774-46e3-8a84-816742cb0d98",
   "metadata": {},
   "source": [
    "#### Part 3: Exploring the Dataset (EDA)"
   ]
  },
  {
   "cell_type": "code",
   "execution_count": 26,
   "id": "936c03a4-8f43-42c8-a6f9-aeb7aec1d90e",
   "metadata": {},
   "outputs": [],
   "source": [
    "# Pairplot "
   ]
  },
  {
   "cell_type": "code",
   "execution_count": null,
   "id": "6d1678b4-9a07-4622-a5bd-e0f307fc6e54",
   "metadata": {
    "tags": []
   },
   "outputs": [
    {
     "name": "stderr",
     "output_type": "stream",
     "text": [
      "/Users/amandajogriffin/anaconda3/lib/python3.11/site-packages/seaborn/axisgrid.py:118: UserWarning: The figure layout has changed to tight\n",
      "  self._figure.tight_layout(*args, **kwargs)\n"
     ]
    }
   ],
   "source": [
    "sns.pairplot(data = df_train, \n",
    "             x_vars = ['class', 'departure_delay_in_minutes', 'ease_of_online_booking', 'flight_distance', 'seat_comfort', 'inflight_entertainment', 'cleanliness'],\n",
    "             y_vars = ['class', 'departure_delay_in_minutes', 'ease_of_online_booking', 'flight_distance', 'seat_comfort', 'inflight_entertainment', 'cleanliness'],\n",
    "             hue = 'satisfaction',\n",
    "             corner = True);"
   ]
  },
  {
   "cell_type": "code",
   "execution_count": null,
   "id": "b3f3abee-4823-4799-a606-939bb7f70249",
   "metadata": {
    "tags": []
   },
   "outputs": [],
   "source": [
    "# barplots"
   ]
  },
  {
   "cell_type": "code",
   "execution_count": null,
   "id": "0d4ce67d-a8ba-45ce-8cfe-51f145f022a0",
   "metadata": {
    "tags": []
   },
   "outputs": [],
   "source": [
    "sns.barplot(data = df,\n",
    "                x = 'class',\n",
    "                y = 'cleanliness',\n",
    "                hue = 'satisfaction');"
   ]
  },
  {
   "cell_type": "code",
   "execution_count": null,
   "id": "3d982f1f-21f0-4d2e-976b-c05a3d1f5b99",
   "metadata": {},
   "outputs": [],
   "source": [
    "# scatterplots"
   ]
  },
  {
   "cell_type": "code",
   "execution_count": null,
   "id": "e0cd1889-eeaa-4724-8efa-b4bc24931ec1",
   "metadata": {
    "tags": []
   },
   "outputs": [],
   "source": [
    "sns.scatterplot(data = df,\n",
    "                x = 'departure_delay_in_minutes',\n",
    "                y = 'flight_distance',\n",
    "                hue = 'satisfaction');"
   ]
  },
  {
   "cell_type": "code",
   "execution_count": null,
   "id": "3ed34a2e-285e-4188-bb4e-673ff376264b",
   "metadata": {},
   "outputs": [],
   "source": [
    "# Linecharts"
   ]
  },
  {
   "cell_type": "code",
   "execution_count": null,
   "id": "7b107c53-fe15-43c7-b593-7845dbf1cfd7",
   "metadata": {
    "tags": []
   },
   "outputs": [],
   "source": [
    "sns.lineplot(data = df,\n",
    "                x = 'departure_delay_in_minutes',\n",
    "                y = 'satisfaction');"
   ]
  },
  {
   "cell_type": "code",
   "execution_count": null,
   "id": "cddf07aa-1324-4e18-ac94-ac2c8087b6f1",
   "metadata": {
    "tags": []
   },
   "outputs": [],
   "source": [
    "sns.lineplot(data = df,\n",
    "               x = \"arrival_delay_in_minutes\",\n",
    "               y = \"departure_delay_in_minutes\");"
   ]
  },
  {
   "cell_type": "code",
   "execution_count": null,
   "id": "42315eb3-b99e-4f9e-8042-969a906c5464",
   "metadata": {
    "tags": []
   },
   "outputs": [],
   "source": [
    "sns.scatterplot(data = df,\n",
    "               x = \"departure_delay_in_minutes\",\n",
    "               y = \"arrival_delay_in_minutes\",\n",
    "               hue = \"satisfaction\");"
   ]
  },
  {
   "cell_type": "code",
   "execution_count": null,
   "id": "3899df03-a11e-4c3d-a6e8-2e494c77cf6a",
   "metadata": {},
   "outputs": [],
   "source": [
    "# Plotly 3D"
   ]
  },
  {
   "cell_type": "code",
   "execution_count": null,
   "id": "3a145e6d-9bdb-4004-b404-957e69b1b0d6",
   "metadata": {
    "tags": []
   },
   "outputs": [],
   "source": [
    "import plotly.express as px\n",
    "px.scatter_3d(df, x='class', y='baggage_handling',z='checkin_service', color = 'satisfaction')"
   ]
  },
  {
   "cell_type": "markdown",
   "id": "d52f50ca-453c-46dc-a781-257a6f513573",
   "metadata": {},
   "source": [
    "#### Part 4: Modeling"
   ]
  },
  {
   "cell_type": "code",
   "execution_count": null,
   "id": "cac84fd4-45f6-45b7-9b3a-b6fceb5c0a66",
   "metadata": {},
   "outputs": [],
   "source": [
    "# baseline"
   ]
  },
  {
   "cell_type": "code",
   "execution_count": null,
   "id": "2c81ada5-7568-496c-af57-80e3a6dc5828",
   "metadata": {
    "tags": []
   },
   "outputs": [],
   "source": [
    "df['satisfaction'].value_counts(normalize = True)"
   ]
  },
  {
   "cell_type": "markdown",
   "id": "7e20d139-d0f0-4440-b341-40206f5c9e86",
   "metadata": {},
   "source": [
    "###### 56.6 % is the baseline "
   ]
  },
  {
   "cell_type": "code",
   "execution_count": null,
   "id": "d8699b91-94c3-4752-b111-4dcfcb6c3759",
   "metadata": {
    "tags": []
   },
   "outputs": [],
   "source": [
    "# create x & y \n",
    "X = df.drop(columns = 'satisfaction')\n",
    "y = df['satisfaction']"
   ]
  },
  {
   "cell_type": "code",
   "execution_count": null,
   "id": "3292690e-11cd-4983-8dab-ce0fb7b47452",
   "metadata": {
    "tags": []
   },
   "outputs": [],
   "source": [
    "# train, test, split"
   ]
  },
  {
   "cell_type": "code",
   "execution_count": null,
   "id": "8eb9df39-0055-4266-b2eb-caf999963554",
   "metadata": {
    "tags": []
   },
   "outputs": [],
   "source": [
    "X_train, X_test, y_train, y_test = train_test_split(X,y,random_state=42)"
   ]
  },
  {
   "cell_type": "code",
   "execution_count": null,
   "id": "28a919d0-9bdd-405d-8d55-89bab2aa2952",
   "metadata": {
    "tags": []
   },
   "outputs": [],
   "source": [
    "# standardscaler"
   ]
  },
  {
   "cell_type": "code",
   "execution_count": null,
   "id": "6ee9d942-abf1-4637-a8c4-c77ee8ce28c4",
   "metadata": {
    "tags": []
   },
   "outputs": [],
   "source": [
    "sc = StandardScaler()"
   ]
  },
  {
   "cell_type": "code",
   "execution_count": null,
   "id": "d2d3f688-52ec-4dcc-87d3-81f216c5dfb8",
   "metadata": {
    "tags": []
   },
   "outputs": [],
   "source": [
    "X_train_sc = sc.fit_transform(X_train)\n",
    "X_test_sc = sc.transform(X_test)"
   ]
  },
  {
   "cell_type": "code",
   "execution_count": null,
   "id": "ef0069fc-fafe-49f8-8f41-8b0a40cfc5ea",
   "metadata": {
    "tags": []
   },
   "outputs": [],
   "source": [
    "# Istantiate"
   ]
  },
  {
   "cell_type": "code",
   "execution_count": null,
   "id": "493861e6-bd6f-49e9-a839-2493a3d490cb",
   "metadata": {
    "tags": []
   },
   "outputs": [],
   "source": [
    "knn = KNeighborsClassifier()"
   ]
  },
  {
   "cell_type": "code",
   "execution_count": null,
   "id": "24ada367-a6b9-4cf5-adc8-a4de81298420",
   "metadata": {
    "tags": []
   },
   "outputs": [],
   "source": [
    "# Fit model"
   ]
  },
  {
   "cell_type": "code",
   "execution_count": null,
   "id": "97b9c380-28df-4172-bf16-b7fb83febfc9",
   "metadata": {
    "tags": []
   },
   "outputs": [],
   "source": [
    "knn.fit(X_train_sc,y_train)"
   ]
  },
  {
   "cell_type": "code",
   "execution_count": null,
   "id": "fe219b58-8e85-487d-b864-ee51bd3e8c46",
   "metadata": {
    "tags": []
   },
   "outputs": [],
   "source": [
    "#Accuracy Score"
   ]
  },
  {
   "cell_type": "code",
   "execution_count": null,
   "id": "83f4f8b8-6090-4bd4-ba28-20c213ad2e96",
   "metadata": {
    "tags": []
   },
   "outputs": [],
   "source": [
    "knn.score(X_train_sc, y_train)"
   ]
  },
  {
   "cell_type": "code",
   "execution_count": null,
   "id": "c433d1df-4c44-48d1-bc4e-6de56f344c88",
   "metadata": {
    "tags": []
   },
   "outputs": [],
   "source": [
    "knn.score(X_test_sc,y_test)"
   ]
  },
  {
   "cell_type": "code",
   "execution_count": null,
   "id": "b06d3338-10d2-4660-aaaa-390f1876608d",
   "metadata": {
    "tags": []
   },
   "outputs": [],
   "source": [
    "# Confusion Matrix"
   ]
  },
  {
   "cell_type": "code",
   "execution_count": null,
   "id": "1df20ba6-61a9-4a3d-8548-c77c01015196",
   "metadata": {
    "tags": []
   },
   "outputs": [],
   "source": [
    "ConfusionMatrixDisplay.from_estimator(knn, X_test_sc, y_test, cmap = 'Blues', display_labels = [\"False\", \"True\"]);"
   ]
  },
  {
   "cell_type": "code",
   "execution_count": null,
   "id": "357db013-7e39-45c0-99cc-dbe8da1bd0d6",
   "metadata": {
    "tags": []
   },
   "outputs": [],
   "source": [
    "satisfaction = []"
   ]
  },
  {
   "cell_type": "code",
   "execution_count": null,
   "id": "18a7bd04-ce73-4988-ac11-993dc47a9590",
   "metadata": {
    "tags": []
   },
   "outputs": [],
   "source": [
    "for k in range (3,32,2):\n",
    "    knn = KNeighborsClassifier(n_neighbors=k)\n",
    "    knn.fit(X_train_sc,y_train)\n",
    "    acc_train=knn.score(X_train_sc, y_train)\n",
    "    acc_test=knn.score(X_test_sc,y_test)\n",
    "    satisfaction.append({'k':k,'Training Accuracy':acc_train,'Test Accuracy':acc_test})\n",
    "\n",
    "df_satisfaction = pd.DataFrame(satisfaction)\n",
    "df_satisfaction"
   ]
  },
  {
   "cell_type": "code",
   "execution_count": null,
   "id": "660d1879-9e41-475a-a801-d1a32c78b90b",
   "metadata": {
    "tags": []
   },
   "outputs": [],
   "source": [
    "sns.lineplot(data = df_satisfaction, x = 'k', y = 'Training Accuracy', c='navy', label='Train')\n",
    "sns.lineplot(data = df_satisfaction, x = 'k', y = 'Test Accuracy', c='orange', label='Test')\n",
    "plt.xticks(range(3, 32, 2));"
   ]
  },
  {
   "cell_type": "code",
   "execution_count": null,
   "id": "d50af33e-e5e6-429c-b1c0-ce6f3e431ea1",
   "metadata": {},
   "outputs": [],
   "source": [
    "# Logistic Regression "
   ]
  },
  {
   "cell_type": "code",
   "execution_count": null,
   "id": "8a042975-5525-4bb7-8108-247a74d73d32",
   "metadata": {
    "tags": []
   },
   "outputs": [],
   "source": [
    "from sklearn.linear_model import LogisticRegression"
   ]
  },
  {
   "cell_type": "code",
   "execution_count": null,
   "id": "f84d2c0f-9299-497b-9b20-3070eca2b1fa",
   "metadata": {
    "tags": []
   },
   "outputs": [],
   "source": [
    "logr = LogisticRegression()\n",
    "logr.fit(X_train_sc, y_train)"
   ]
  },
  {
   "cell_type": "code",
   "execution_count": null,
   "id": "74d10032-23c4-4227-9638-ec542aa1e459",
   "metadata": {
    "tags": []
   },
   "outputs": [],
   "source": [
    "logr = LogisticRegression()\n",
    "logr.fit(X_train_sc, y_train)"
   ]
  },
  {
   "cell_type": "code",
   "execution_count": null,
   "id": "34c8ef6a-be8d-43e5-ba17-7bad8878ae55",
   "metadata": {
    "tags": []
   },
   "outputs": [],
   "source": [
    "logr.score(X_train_sc, y_train)"
   ]
  },
  {
   "cell_type": "code",
   "execution_count": null,
   "id": "d594c056-f496-4b0d-bdfa-ca03c7851150",
   "metadata": {
    "tags": []
   },
   "outputs": [],
   "source": [
    "logr.score(X_test_sc, y_test)"
   ]
  },
  {
   "cell_type": "code",
   "execution_count": null,
   "id": "61396fb2-bc6e-4557-b35d-5d41c371abed",
   "metadata": {},
   "outputs": [],
   "source": [
    "# Forest Classifyer"
   ]
  },
  {
   "cell_type": "code",
   "execution_count": null,
   "id": "b94e9175-5578-4e01-a31e-905ce54454a1",
   "metadata": {
    "tags": []
   },
   "outputs": [],
   "source": [
    "from sklearn.ensemble import RandomForestClassifier"
   ]
  },
  {
   "cell_type": "code",
   "execution_count": null,
   "id": "e05f95fe-7a3e-4ce6-81a3-a499805d4f4d",
   "metadata": {
    "tags": []
   },
   "outputs": [],
   "source": [
    "rf = RandomForestClassifier()\n",
    "rf.fit(X_train_sc, y_train)"
   ]
  },
  {
   "cell_type": "code",
   "execution_count": null,
   "id": "ab707f01-2713-49cd-b01d-be0c6a3491b6",
   "metadata": {
    "tags": []
   },
   "outputs": [],
   "source": [
    "rf.score(X_train_sc, y_train)"
   ]
  },
  {
   "cell_type": "code",
   "execution_count": null,
   "id": "a9266fe4-b1e9-4935-a774-1ae930401e3a",
   "metadata": {
    "tags": []
   },
   "outputs": [],
   "source": [
    "rf.score(X_test_sc, y_test)"
   ]
  },
  {
   "cell_type": "markdown",
   "id": "d2d2973b-4141-4fe8-a9a3-e246636b6b0f",
   "metadata": {},
   "source": [
    "###### Random Forest Classifier was the best model that predicted satisfaction rates."
   ]
  },
  {
   "cell_type": "code",
   "execution_count": null,
   "id": "cd14a32b-3bf0-442a-a31a-c6406449fa2e",
   "metadata": {
    "tags": []
   },
   "outputs": [],
   "source": [
    "ConfusionMatrixDisplay.from_estimator(rf, X_test_sc, y_test, cmap = 'Purples');"
   ]
  }
 ],
 "metadata": {
  "kernelspec": {
   "display_name": "Python 3 (ipykernel)",
   "language": "python",
   "name": "python3"
  },
  "language_info": {
   "codemirror_mode": {
    "name": "ipython",
    "version": 3
   },
   "file_extension": ".py",
   "mimetype": "text/x-python",
   "name": "python",
   "nbconvert_exporter": "python",
   "pygments_lexer": "ipython3",
   "version": "3.11.5"
  }
 },
 "nbformat": 4,
 "nbformat_minor": 5
}
